{
 "cells": [
  {
   "cell_type": "code",
   "execution_count": 1,
   "id": "1b449dca",
   "metadata": {},
   "outputs": [],
   "source": [
    "import numpy as np\n",
    "import pandas as pd"
   ]
  },
  {
   "cell_type": "code",
   "execution_count": 6,
   "id": "2fbab032",
   "metadata": {},
   "outputs": [],
   "source": [
    "df = pd.read_csv(r\"C:\\Users\\Madhuri S\\OneDrive\\Desktop\\e2e\\laptop_pricing.csv\")"
   ]
  },
  {
   "cell_type": "code",
   "execution_count": 7,
   "id": "37e4485c",
   "metadata": {},
   "outputs": [
    {
     "data": {
      "text/html": [
       "<div>\n",
       "<style scoped>\n",
       "    .dataframe tbody tr th:only-of-type {\n",
       "        vertical-align: middle;\n",
       "    }\n",
       "\n",
       "    .dataframe tbody tr th {\n",
       "        vertical-align: top;\n",
       "    }\n",
       "\n",
       "    .dataframe thead th {\n",
       "        text-align: right;\n",
       "    }\n",
       "</style>\n",
       "<table border=\"1\" class=\"dataframe\">\n",
       "  <thead>\n",
       "    <tr style=\"text-align: right;\">\n",
       "      <th></th>\n",
       "      <th>Manufacturer</th>\n",
       "      <th>IntelCore(i-)</th>\n",
       "      <th>IntelCoreGen</th>\n",
       "      <th>processing speed(GHz)</th>\n",
       "      <th>Ram(gb)</th>\n",
       "      <th>HDD(gb)</th>\n",
       "      <th>SSD(gb)</th>\n",
       "      <th>Graphics(gb)</th>\n",
       "      <th>ScreenSize(inch)</th>\n",
       "      <th>Price</th>\n",
       "    </tr>\n",
       "  </thead>\n",
       "  <tbody>\n",
       "    <tr>\n",
       "      <th>0</th>\n",
       "      <td>Dell</td>\n",
       "      <td>3</td>\n",
       "      <td>7</td>\n",
       "      <td>2.29</td>\n",
       "      <td>4</td>\n",
       "      <td>1000</td>\n",
       "      <td>0</td>\n",
       "      <td>0</td>\n",
       "      <td>15.6</td>\n",
       "      <td>39057</td>\n",
       "    </tr>\n",
       "    <tr>\n",
       "      <th>1</th>\n",
       "      <td>Dell</td>\n",
       "      <td>3</td>\n",
       "      <td>7</td>\n",
       "      <td>2.30</td>\n",
       "      <td>4</td>\n",
       "      <td>1000</td>\n",
       "      <td>0</td>\n",
       "      <td>0</td>\n",
       "      <td>15.6</td>\n",
       "      <td>45141</td>\n",
       "    </tr>\n",
       "    <tr>\n",
       "      <th>2</th>\n",
       "      <td>HP</td>\n",
       "      <td>3</td>\n",
       "      <td>7</td>\n",
       "      <td>2.30</td>\n",
       "      <td>8</td>\n",
       "      <td>256</td>\n",
       "      <td>256</td>\n",
       "      <td>0</td>\n",
       "      <td>14.0</td>\n",
       "      <td>35999</td>\n",
       "    </tr>\n",
       "    <tr>\n",
       "      <th>3</th>\n",
       "      <td>ASUS</td>\n",
       "      <td>3</td>\n",
       "      <td>7</td>\n",
       "      <td>2.30</td>\n",
       "      <td>4</td>\n",
       "      <td>1000</td>\n",
       "      <td>0</td>\n",
       "      <td>0</td>\n",
       "      <td>14.0</td>\n",
       "      <td>39990</td>\n",
       "    </tr>\n",
       "    <tr>\n",
       "      <th>4</th>\n",
       "      <td>HP</td>\n",
       "      <td>3</td>\n",
       "      <td>7</td>\n",
       "      <td>2.40</td>\n",
       "      <td>4</td>\n",
       "      <td>1000</td>\n",
       "      <td>0</td>\n",
       "      <td>0</td>\n",
       "      <td>15.6</td>\n",
       "      <td>36263</td>\n",
       "    </tr>\n",
       "  </tbody>\n",
       "</table>\n",
       "</div>"
      ],
      "text/plain": [
       "  Manufacturer  IntelCore(i-)  IntelCoreGen  processing speed(GHz)  Ram(gb)  \\\n",
       "0         Dell              3             7                   2.29        4   \n",
       "1         Dell              3             7                   2.30        4   \n",
       "2           HP              3             7                   2.30        8   \n",
       "3         ASUS              3             7                   2.30        4   \n",
       "4           HP              3             7                   2.40        4   \n",
       "\n",
       "   HDD(gb)  SSD(gb)  Graphics(gb)  ScreenSize(inch)  Price  \n",
       "0     1000        0             0              15.6  39057  \n",
       "1     1000        0             0              15.6  45141  \n",
       "2      256      256             0              14.0  35999  \n",
       "3     1000        0             0              14.0  39990  \n",
       "4     1000        0             0              15.6  36263  "
      ]
     },
     "execution_count": 7,
     "metadata": {},
     "output_type": "execute_result"
    }
   ],
   "source": [
    "df.head()"
   ]
  },
  {
   "cell_type": "code",
   "execution_count": 8,
   "id": "98f617be",
   "metadata": {},
   "outputs": [
    {
     "data": {
      "text/plain": [
       "(29, 10)"
      ]
     },
     "execution_count": 8,
     "metadata": {},
     "output_type": "execute_result"
    }
   ],
   "source": [
    "df.shape"
   ]
  },
  {
   "cell_type": "code",
   "execution_count": 10,
   "id": "d18c40fb",
   "metadata": {},
   "outputs": [],
   "source": [
    "x = df.loc[:,['IntelCore(i-)','IntelCoreGen','processing speed(GHz)','Ram(gb)','HDD(gb)','SSD(gb)','Graphics(gb)','ScreenSize(inch)']]\n"
   ]
  },
  {
   "cell_type": "code",
   "execution_count": 12,
   "id": "329c8f59",
   "metadata": {},
   "outputs": [],
   "source": [
    "y = df.loc[:,['Price']]"
   ]
  },
  {
   "cell_type": "code",
   "execution_count": 13,
   "id": "2e6b7d4d",
   "metadata": {},
   "outputs": [],
   "source": [
    "from sklearn.preprocessing import StandardScaler"
   ]
  },
  {
   "cell_type": "code",
   "execution_count": 14,
   "id": "33b40e76",
   "metadata": {},
   "outputs": [],
   "source": [
    "sc = StandardScaler()"
   ]
  },
  {
   "cell_type": "code",
   "execution_count": 15,
   "id": "e76d8aab",
   "metadata": {},
   "outputs": [
    {
     "data": {
      "text/plain": [
       "array([[-0.55999004, -0.22444306, -0.06708383, -0.6172134 ,  0.33204155,\n",
       "        -0.71788534, -0.68159582,  0.36563104],\n",
       "       [-0.55999004, -0.22444306, -0.0421424 , -0.6172134 ,  0.33204155,\n",
       "        -0.71788534, -0.68159582,  0.36563104],\n",
       "       [-0.55999004, -0.22444306, -0.0421424 ,  0.12858612, -3.80429125,\n",
       "         0.66426735, -0.68159582, -1.7818728 ],\n",
       "       [-0.55999004, -0.22444306, -0.0421424 , -0.6172134 ,  0.33204155,\n",
       "        -0.71788534, -0.68159582, -1.7818728 ],\n",
       "       [-0.55999004, -0.22444306,  0.20727182, -0.6172134 ,  0.33204155,\n",
       "        -0.71788534, -0.68159582,  0.36563104],\n",
       "       [-1.10131375, -1.99958364, -0.0421424 , -0.6172134 , -2.447752  ,\n",
       "         0.66426735, -0.68159582, -1.7818728 ],\n",
       "       [-0.55999004, -0.22444306, -0.0421424 , -0.6172134 ,  0.33204155,\n",
       "        -0.71788534, -0.68159582,  0.36563104],\n",
       "       [ 0.52265738,  0.36727046, -1.78804197,  0.12858612,  0.33204155,\n",
       "        -0.71788534, -0.68159582, -1.7818728 ],\n",
       "       [-1.64263746, -2.59129716, -1.28921352, -0.6172134 ,  0.33204155,\n",
       "        -0.71788534, -0.68159582,  0.36563104],\n",
       "       [-0.55999004,  0.36727046,  3.94848517, -0.6172134 ,  0.33204155,\n",
       "        -0.71788534, -0.68159582, -1.7818728 ],\n",
       "       [-0.55999004, -0.22444306, -0.0421424 ,  0.12858612,  0.33204155,\n",
       "        -0.71788534, -0.68159582,  0.36563104],\n",
       "       [-1.10131375, -1.40787011, -0.0421424 , -0.6172134 ,  0.33204155,\n",
       "        -0.71788534, -0.68159582,  0.36563104],\n",
       "       [-0.55999004, -0.22444306, -0.0421424 , -0.6172134 ,  0.33204155,\n",
       "        -0.71788534, -0.68159582, -1.7818728 ],\n",
       "       [-0.55999004,  0.36727046, -0.54097085, -0.6172134 ,  0.33204155,\n",
       "        -0.71788534, -0.68159582,  0.36563104],\n",
       "       [-0.55999004,  0.36727046, -0.54097085,  0.12858612,  0.33204155,\n",
       "        -0.71788534, -0.68159582,  0.36563104],\n",
       "       [-0.55999004, -0.22444306, -0.0421424 ,  0.12858612,  0.33204155,\n",
       "        -0.71788534, -0.68159582,  0.36563104],\n",
       "       [ 0.52265738,  0.36727046, -1.78804197,  0.12858612, -2.38103695,\n",
       "         2.04642004, -0.68159582,  0.36563104],\n",
       "       [-1.64263746, -2.59129716, -1.28921352, -0.6172134 ,  0.33204155,\n",
       "        -0.71788534, -0.68159582,  0.36563104],\n",
       "       [-0.55999004, -0.22444306,  0.20727182, -0.6172134 ,  0.33204155,\n",
       "        -0.71788534, -0.68159582,  0.36563104],\n",
       "       [ 0.52265738,  0.95898399,  0.20727182,  0.12858612,  0.33204155,\n",
       "         0.66426735,  1.15712779,  0.36563104],\n",
       "       [ 0.52265738,  0.95898399, -0.54097085,  0.12858612,  0.33204155,\n",
       "         2.04642004,  1.15712779,  0.36563104],\n",
       "       [ 0.52265738,  0.95898399,  0.20727182,  0.12858612,  0.33204155,\n",
       "        -0.71788534,  1.15712779,  0.36563104],\n",
       "       [ 1.60530479,  0.36727046, -0.29155663,  0.12858612,  0.33204155,\n",
       "        -0.6315008 ,  1.15712779,  0.36563104],\n",
       "       [ 1.60530479,  0.95898399,  0.70610027,  0.12858612,  0.33204155,\n",
       "         0.66426735,  1.15712779,  0.36563104],\n",
       "       [ 1.60530479,  0.95898399,  0.70610027,  1.62018517,  0.33204155,\n",
       "         0.66426735,  1.15712779,  0.36563104],\n",
       "       [ 1.60530479,  0.95898399,  0.70610027,  0.12858612,  0.33204155,\n",
       "         2.04642004,  1.15712779,  0.36563104],\n",
       "       [ 0.52265738,  0.95898399,  0.20727182,  0.12858612,  0.33204155,\n",
       "         0.66426735,  0.69744689,  0.36563104],\n",
       "       [ 1.60530479,  0.95898399,  0.70610027,  4.60338327,  0.33204155,\n",
       "         2.04642004,  2.9958514 ,  2.64735388],\n",
       "       [ 1.60530479,  0.95898399,  0.70610027,  0.12858612,  0.33204155,\n",
       "         0.66426735,  1.15712779,  0.36563104]])"
      ]
     },
     "execution_count": 15,
     "metadata": {},
     "output_type": "execute_result"
    }
   ],
   "source": [
    "sc.fit_transform(x)"
   ]
  },
  {
   "cell_type": "code",
   "execution_count": 16,
   "id": "12a4b0bc",
   "metadata": {},
   "outputs": [],
   "source": [
    "from sklearn.model_selection import train_test_split"
   ]
  },
  {
   "cell_type": "code",
   "execution_count": 17,
   "id": "a1532cf3",
   "metadata": {},
   "outputs": [],
   "source": [
    "x_train, x_test, y_train, y_test = train_test_split(x,y, test_size = 0.4, random_state = 200 )"
   ]
  },
  {
   "cell_type": "code",
   "execution_count": 18,
   "id": "8b5efc55",
   "metadata": {},
   "outputs": [],
   "source": [
    "from sklearn.linear_model import LinearRegression"
   ]
  },
  {
   "cell_type": "code",
   "execution_count": 19,
   "id": "f67e0cc3",
   "metadata": {},
   "outputs": [],
   "source": [
    "model = LinearRegression()\n"
   ]
  },
  {
   "cell_type": "code",
   "execution_count": 20,
   "id": "86e89d83",
   "metadata": {},
   "outputs": [
    {
     "data": {
      "text/plain": [
       "LinearRegression()"
      ]
     },
     "execution_count": 20,
     "metadata": {},
     "output_type": "execute_result"
    }
   ],
   "source": [
    "model.fit(x_train,y_train)"
   ]
  },
  {
   "cell_type": "code",
   "execution_count": 21,
   "id": "472eae93",
   "metadata": {},
   "outputs": [],
   "source": [
    "y_pred = model.predict(x_test)"
   ]
  },
  {
   "cell_type": "code",
   "execution_count": 22,
   "id": "102fcfc6",
   "metadata": {},
   "outputs": [],
   "source": [
    "from sklearn.metrics import r2_score"
   ]
  },
  {
   "cell_type": "code",
   "execution_count": 23,
   "id": "004bdcb0",
   "metadata": {},
   "outputs": [
    {
     "data": {
      "text/plain": [
       "0.28058493512530314"
      ]
     },
     "execution_count": 23,
     "metadata": {},
     "output_type": "execute_result"
    }
   ],
   "source": [
    "r2_score(y_test, y_pred)"
   ]
  },
  {
   "cell_type": "code",
   "execution_count": 24,
   "id": "9c9b838b",
   "metadata": {},
   "outputs": [],
   "source": [
    "import pickle"
   ]
  },
  {
   "cell_type": "code",
   "execution_count": 25,
   "id": "18ffb074",
   "metadata": {},
   "outputs": [],
   "source": [
    "file = open('model.pkl','wb')"
   ]
  },
  {
   "cell_type": "code",
   "execution_count": 26,
   "id": "5b8023b8",
   "metadata": {},
   "outputs": [],
   "source": [
    "pickle.dump(model,file)"
   ]
  },
  {
   "cell_type": "code",
   "execution_count": null,
   "id": "a83ef849",
   "metadata": {},
   "outputs": [],
   "source": []
  }
 ],
 "metadata": {
  "kernelspec": {
   "display_name": "Python 3 (ipykernel)",
   "language": "python",
   "name": "python3"
  },
  "language_info": {
   "codemirror_mode": {
    "name": "ipython",
    "version": 3
   },
   "file_extension": ".py",
   "mimetype": "text/x-python",
   "name": "python",
   "nbconvert_exporter": "python",
   "pygments_lexer": "ipython3",
   "version": "3.9.7"
  }
 },
 "nbformat": 4,
 "nbformat_minor": 5
}
